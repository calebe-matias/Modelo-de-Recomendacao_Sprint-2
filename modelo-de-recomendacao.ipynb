{
 "cells": [
  {
   "cell_type": "markdown",
   "id": "e8f810d3",
   "metadata": {},
   "source": [
    "# 1. Introdução\n",
    "\n",
    "Neste notebook desenvolvemos um **Modelo de Recomendação de Ativos** utilizando **Filtragem Colaborativa** para sugerir investimentos a clientes que estejam *fora de conformidade* com o Perfil de Carteira escolhido no momento da abertura da conta no **BTG**.\n",
    "\n",
    "O fluxo completo contempla:\n",
    "- Carregamento e inspeção dos dados\n",
    "- Classificação de cada ativo em **Renda Fixa (RF)**, **Renda Variável (RV)** ou **Outros**\n",
    "- Cálculo de *compliance* das carteiras em relação às regras de perfil\n",
    "- Seleção da base de usuários **em conformidade** para treinar o modelo\n",
    "- Construção da matriz usuário‑ativo e treinamento do algoritmo de Filtragem Colaborativa\n",
    "- Geração de um **ranking de ativos** personalizados para usuários *não* conformes\n",
    "\n",
    "Siga as seções numeradas (1, 1.1, 1.1.1, …) para um entendimento hierárquico."
   ]
  },
  {
   "cell_type": "markdown",
   "id": "8dc4b985",
   "metadata": {},
   "source": [
    "## 1.1 Bibliotecas e Configurações"
   ]
  },
  {
   "cell_type": "code",
   "execution_count": 1,
   "id": "d14612e2",
   "metadata": {},
   "outputs": [],
   "source": [
    "\n",
    "import pandas as pd\n",
    "import numpy as np\n",
    "from sklearn.metrics.pairwise import cosine_similarity\n",
    "from sklearn.neighbors import NearestNeighbors\n",
    "import scipy.sparse as sp\n",
    "import matplotlib.pyplot as plt\n",
    "\n",
    "pd.set_option('display.max_columns', None)\n"
   ]
  },
  {
   "cell_type": "markdown",
   "id": "d56c4391",
   "metadata": {},
   "source": [
    "## 1.2 Carregamento dos Dados"
   ]
  },
  {
   "cell_type": "code",
   "execution_count": 2,
   "id": "3e500c12",
   "metadata": {},
   "outputs": [
    {
     "name": "stdout",
     "output_type": "stream",
     "text": [
      "Shape: (286145, 6)\n"
     ]
    },
    {
     "data": {
      "text/html": [
       "<div>\n",
       "<style scoped>\n",
       "    .dataframe tbody tr th:only-of-type {\n",
       "        vertical-align: middle;\n",
       "    }\n",
       "\n",
       "    .dataframe tbody tr th {\n",
       "        vertical-align: top;\n",
       "    }\n",
       "\n",
       "    .dataframe thead th {\n",
       "        text-align: right;\n",
       "    }\n",
       "</style>\n",
       "<table border=\"1\" class=\"dataframe\">\n",
       "  <thead>\n",
       "    <tr style=\"text-align: right;\">\n",
       "      <th></th>\n",
       "      <th>Conta</th>\n",
       "      <th>Financeiro</th>\n",
       "      <th>Quantidade</th>\n",
       "      <th>Nome_Ativo</th>\n",
       "      <th>Tipo_de_Ativo</th>\n",
       "      <th>Perfil_da_carteira</th>\n",
       "    </tr>\n",
       "  </thead>\n",
       "  <tbody>\n",
       "    <tr>\n",
       "      <th>0</th>\n",
       "      <td>27</td>\n",
       "      <td>25081.618073</td>\n",
       "      <td>25.0</td>\n",
       "      <td>CRA CDIE</td>\n",
       "      <td>TITULOS RF PRIVADOS BRASIL</td>\n",
       "      <td>Moderado</td>\n",
       "    </tr>\n",
       "    <tr>\n",
       "      <th>1</th>\n",
       "      <td>27</td>\n",
       "      <td>47046.248881</td>\n",
       "      <td>49.0</td>\n",
       "      <td>CRA IPCA</td>\n",
       "      <td>TITULOS RF PRIVADOS BRASIL</td>\n",
       "      <td>Moderado</td>\n",
       "    </tr>\n",
       "    <tr>\n",
       "      <th>2</th>\n",
       "      <td>27</td>\n",
       "      <td>36331.476685</td>\n",
       "      <td>35.0</td>\n",
       "      <td>RRRP13 IPCA</td>\n",
       "      <td>DEBENTURES BRASIL</td>\n",
       "      <td>Moderado</td>\n",
       "    </tr>\n",
       "    <tr>\n",
       "      <th>3</th>\n",
       "      <td>27</td>\n",
       "      <td>18995.623640</td>\n",
       "      <td>20.0</td>\n",
       "      <td>EEELA1 IPCA</td>\n",
       "      <td>DEBENTURES BRASIL</td>\n",
       "      <td>Moderado</td>\n",
       "    </tr>\n",
       "    <tr>\n",
       "      <th>4</th>\n",
       "      <td>27</td>\n",
       "      <td>39630.685146</td>\n",
       "      <td>39.0</td>\n",
       "      <td>TRRG12 IPCA</td>\n",
       "      <td>DEBENTURES BRASIL</td>\n",
       "      <td>Moderado</td>\n",
       "    </tr>\n",
       "  </tbody>\n",
       "</table>\n",
       "</div>"
      ],
      "text/plain": [
       "   Conta    Financeiro  Quantidade   Nome_Ativo               Tipo_de_Ativo  \\\n",
       "0     27  25081.618073        25.0     CRA CDIE  TITULOS RF PRIVADOS BRASIL   \n",
       "1     27  47046.248881        49.0     CRA IPCA  TITULOS RF PRIVADOS BRASIL   \n",
       "2     27  36331.476685        35.0  RRRP13 IPCA           DEBENTURES BRASIL   \n",
       "3     27  18995.623640        20.0  EEELA1 IPCA           DEBENTURES BRASIL   \n",
       "4     27  39630.685146        39.0  TRRG12 IPCA           DEBENTURES BRASIL   \n",
       "\n",
       "  Perfil_da_carteira  \n",
       "0           Moderado  \n",
       "1           Moderado  \n",
       "2           Moderado  \n",
       "3           Moderado  \n",
       "4           Moderado  "
      ]
     },
     "execution_count": 2,
     "metadata": {},
     "output_type": "execute_result"
    }
   ],
   "source": [
    "\n",
    "# Ajuste o caminho caso necessário\n",
    "df = pd.read_csv('carteiras_btg.csv')\n",
    "print(f\"Shape: {df.shape}\")\n",
    "df.head()\n"
   ]
  },
  {
   "cell_type": "markdown",
   "id": "1c9378e5",
   "metadata": {},
   "source": [
    "## 1.3 Dicionário de Classificação dos Ativos"
   ]
  },
  {
   "cell_type": "markdown",
   "id": "f70cda09",
   "metadata": {},
   "source": [
    "\n",
    "A seguir construímos manualmente um dicionário `map_tipo_para_classe` que mapeia os valores da coluna **`Tipo_de_Ativo`** para uma das três macro‑classes exigidas:\n",
    "\n",
    "- **RF** – Renda Fixa  \n",
    "- **RV** – Renda Variável  \n",
    "- **OUTROS** – Demais classes (multimercado, cambial, previdência, etc.)\n",
    "\n",
    "> **Observação 1:** O dicionário foi elaborado a partir dos tipos realmente presentes no arquivo CSV.  \n",
    "> **Observação 2:** Caso surjam novos tipos no futuro, basta adicioná‑los ao dicionário.\n"
   ]
  },
  {
   "cell_type": "code",
   "execution_count": 3,
   "id": "b10de586",
   "metadata": {},
   "outputs": [
    {
     "data": {
      "text/plain": [
       "OUTROS    61\n",
       "RF         5\n",
       "RV         2\n",
       "Name: count, dtype: int64"
      ]
     },
     "execution_count": 3,
     "metadata": {},
     "output_type": "execute_result"
    }
   ],
   "source": [
    "\n",
    "# Constrói dicionário automaticamente a partir de heurísticas\n",
    "unique_tipos = df['Tipo_de_Ativo'].unique()\n",
    "\n",
    "map_tipo_para_classe = {}\n",
    "\n",
    "rf_keywords = ['RF', 'CDB', 'LCI', 'LCA', 'CRI', 'CRA', 'DEBENTURE', 'TESOURO', 'BOND', 'DÍVIDA', 'CRI', 'CRA']\n",
    "rv_keywords = ['ACAO', 'AÇÃO', 'ETF', 'FII', 'BDR', 'REIT', 'FIDC', 'FIAGRO', 'STOCK', 'EQUITY', 'RV']\n",
    "for t in unique_tipos:\n",
    "    upper = t.upper()\n",
    "    if any(k in upper for k in rf_keywords):\n",
    "        map_tipo_para_classe[t] = 'RF'\n",
    "    elif any(k in upper for k in rv_keywords):\n",
    "        map_tipo_para_classe[t] = 'RV'\n",
    "    else:\n",
    "        map_tipo_para_classe[t] = 'OUTROS'\n",
    "\n",
    "# Mostra mapeamento resumido\n",
    "pd.Series(map_tipo_para_classe).value_counts()\n"
   ]
  },
  {
   "cell_type": "markdown",
   "id": "4ae71bb5",
   "metadata": {},
   "source": [
    "## 1.4 Aplicar Classificação aos Dados"
   ]
  },
  {
   "cell_type": "code",
   "execution_count": 4,
   "id": "d6ee1eb0",
   "metadata": {},
   "outputs": [
    {
     "data": {
      "text/html": [
       "<div>\n",
       "<style scoped>\n",
       "    .dataframe tbody tr th:only-of-type {\n",
       "        vertical-align: middle;\n",
       "    }\n",
       "\n",
       "    .dataframe tbody tr th {\n",
       "        vertical-align: top;\n",
       "    }\n",
       "\n",
       "    .dataframe thead th {\n",
       "        text-align: right;\n",
       "    }\n",
       "</style>\n",
       "<table border=\"1\" class=\"dataframe\">\n",
       "  <thead>\n",
       "    <tr style=\"text-align: right;\">\n",
       "      <th></th>\n",
       "      <th>Conta</th>\n",
       "      <th>Financeiro</th>\n",
       "      <th>Quantidade</th>\n",
       "      <th>Nome_Ativo</th>\n",
       "      <th>Tipo_de_Ativo</th>\n",
       "      <th>Perfil_da_carteira</th>\n",
       "      <th>Classe_Ativo</th>\n",
       "    </tr>\n",
       "  </thead>\n",
       "  <tbody>\n",
       "    <tr>\n",
       "      <th>0</th>\n",
       "      <td>27</td>\n",
       "      <td>25081.618073</td>\n",
       "      <td>25.0</td>\n",
       "      <td>CRA CDIE</td>\n",
       "      <td>TITULOS RF PRIVADOS BRASIL</td>\n",
       "      <td>Moderado</td>\n",
       "      <td>RF</td>\n",
       "    </tr>\n",
       "    <tr>\n",
       "      <th>1</th>\n",
       "      <td>27</td>\n",
       "      <td>47046.248881</td>\n",
       "      <td>49.0</td>\n",
       "      <td>CRA IPCA</td>\n",
       "      <td>TITULOS RF PRIVADOS BRASIL</td>\n",
       "      <td>Moderado</td>\n",
       "      <td>RF</td>\n",
       "    </tr>\n",
       "    <tr>\n",
       "      <th>2</th>\n",
       "      <td>27</td>\n",
       "      <td>36331.476685</td>\n",
       "      <td>35.0</td>\n",
       "      <td>RRRP13 IPCA</td>\n",
       "      <td>DEBENTURES BRASIL</td>\n",
       "      <td>Moderado</td>\n",
       "      <td>RF</td>\n",
       "    </tr>\n",
       "    <tr>\n",
       "      <th>3</th>\n",
       "      <td>27</td>\n",
       "      <td>18995.623640</td>\n",
       "      <td>20.0</td>\n",
       "      <td>EEELA1 IPCA</td>\n",
       "      <td>DEBENTURES BRASIL</td>\n",
       "      <td>Moderado</td>\n",
       "      <td>RF</td>\n",
       "    </tr>\n",
       "    <tr>\n",
       "      <th>4</th>\n",
       "      <td>27</td>\n",
       "      <td>39630.685146</td>\n",
       "      <td>39.0</td>\n",
       "      <td>TRRG12 IPCA</td>\n",
       "      <td>DEBENTURES BRASIL</td>\n",
       "      <td>Moderado</td>\n",
       "      <td>RF</td>\n",
       "    </tr>\n",
       "  </tbody>\n",
       "</table>\n",
       "</div>"
      ],
      "text/plain": [
       "   Conta    Financeiro  Quantidade   Nome_Ativo               Tipo_de_Ativo  \\\n",
       "0     27  25081.618073        25.0     CRA CDIE  TITULOS RF PRIVADOS BRASIL   \n",
       "1     27  47046.248881        49.0     CRA IPCA  TITULOS RF PRIVADOS BRASIL   \n",
       "2     27  36331.476685        35.0  RRRP13 IPCA           DEBENTURES BRASIL   \n",
       "3     27  18995.623640        20.0  EEELA1 IPCA           DEBENTURES BRASIL   \n",
       "4     27  39630.685146        39.0  TRRG12 IPCA           DEBENTURES BRASIL   \n",
       "\n",
       "  Perfil_da_carteira Classe_Ativo  \n",
       "0           Moderado           RF  \n",
       "1           Moderado           RF  \n",
       "2           Moderado           RF  \n",
       "3           Moderado           RF  \n",
       "4           Moderado           RF  "
      ]
     },
     "execution_count": 4,
     "metadata": {},
     "output_type": "execute_result"
    }
   ],
   "source": [
    "\n",
    "df['Classe_Ativo'] = df['Tipo_de_Ativo'].map(map_tipo_para_classe)\n",
    "df.head()\n"
   ]
  },
  {
   "cell_type": "markdown",
   "id": "a8a16a8d",
   "metadata": {},
   "source": [
    "# 2. Conformidade das Carteiras"
   ]
  },
  {
   "cell_type": "markdown",
   "id": "9bb9171b",
   "metadata": {},
   "source": [
    "\n",
    "Para cada **Conta** calculamos a distribuição percentual entre RF, RV e OUTROS.\n",
    "Em seguida verificamos se a distribuição respeita a regra do **Perfil_da_carteira**:\n",
    "\n",
    "| Perfil | Regra |\n",
    "|--------|-------|\n",
    "| Conservador | ≥ 90 % RF e ≤ 10 % demais |\n",
    "| Moderado | ≥ 60 % RF e ≤ 40 % demais |\n",
    "| Sofisticado/Arrojado | ≥ 70 % RV e ≤ 30 % demais |\n",
    "\n",
    "Criamos a coluna `em_conformidade` (boolean).  \n"
   ]
  },
  {
   "cell_type": "code",
   "execution_count": 5,
   "id": "b7dc1bb4",
   "metadata": {},
   "outputs": [
    {
     "data": {
      "text/plain": [
       "em_conformidade\n",
       "False    3142\n",
       "True     2960\n",
       "Name: count, dtype: int64"
      ]
     },
     "execution_count": 5,
     "metadata": {},
     "output_type": "execute_result"
    }
   ],
   "source": [
    "\n",
    "# Percentual por conta & classe\n",
    "portfolio_pct = (\n",
    "    df.pivot_table(index='Conta', columns='Classe_Ativo', values='Financeiro', aggfunc='sum')\n",
    "      .fillna(0)\n",
    ")\n",
    "portfolio_pct = portfolio_pct.div(portfolio_pct.sum(axis=1), axis=0)*100\n",
    "portfolio_pct.head()\n",
    "\n",
    "# Junta perfil\n",
    "perfil = df.groupby('Conta')['Perfil_da_carteira'].first()\n",
    "portfolio_pct = portfolio_pct.join(perfil)\n",
    "\n",
    "def verifica(row):\n",
    "    perfil = row['Perfil_da_carteira']\n",
    "    rf = row.get('RF', 0)\n",
    "    rv = row.get('RV', 0)\n",
    "    outros = row.get('OUTROS', 0)\n",
    "    if perfil == 'Conservador':\n",
    "        return (rf >= 90) and (rv + outros <= 10)\n",
    "    elif perfil == 'Moderado':\n",
    "        return (rf >= 60) and (rv + outros <= 40)\n",
    "    elif perfil in ['Sofisticado', 'Arrojado', 'Sofisticado/Arrojado']:\n",
    "        return (rv >= 70) and (rf + outros <= 30)\n",
    "    else:\n",
    "        return False\n",
    "\n",
    "portfolio_pct['em_conformidade'] = portfolio_pct.apply(verifica, axis=1)\n",
    "portfolio_pct['em_conformidade'].value_counts()\n"
   ]
  },
  {
   "cell_type": "markdown",
   "id": "56c95682",
   "metadata": {},
   "source": [
    "# 3. Construção da Matriz Usuário‑Ativo"
   ]
  },
  {
   "cell_type": "markdown",
   "id": "40533003",
   "metadata": {},
   "source": [
    "\n",
    "Usaremos apenas usuários **em conformidade** como *base confiável* para inferir preferências.\n",
    "A matriz `(users × ativos)` será ponderada pelo **percentual financeiro** do ativo na carteira do usuário.\n",
    "\n",
    "Para evitar sparsidade excessiva, manteremos apenas ativos presentes em pelo menos **N** carteiras; o valor padrão é `N = 5`.\n"
   ]
  },
  {
   "cell_type": "code",
   "execution_count": 6,
   "id": "5d771f9d",
   "metadata": {},
   "outputs": [
    {
     "name": "stdout",
     "output_type": "stream",
     "text": [
      "(2960, 1032)\n"
     ]
    }
   ],
   "source": [
    "\n",
    "# Filtra usuários em conformidade\n",
    "df_ok = df[df['Conta'].isin(portfolio_pct[portfolio_pct['em_conformidade']].index)]\n",
    "\n",
    "# Financeiro por conta e ativo\n",
    "user_item = (\n",
    "    df_ok.pivot_table(index='Conta', columns='Nome_Ativo', values='Financeiro', aggfunc='sum')\n",
    "       .fillna(0)\n",
    ")\n",
    "\n",
    "# Converte valores absolutos em percentuais\n",
    "user_item = user_item.div(user_item.sum(axis=1), axis=0)\n",
    "\n",
    "# Remove ativos raros\n",
    "min_users = 5\n",
    "item_counts = (user_item > 0).sum(axis=0)\n",
    "user_item = user_item.loc[:, item_counts >= min_users]\n",
    "\n",
    "print(user_item.shape)\n"
   ]
  },
  {
   "cell_type": "markdown",
   "id": "4c183201",
   "metadata": {},
   "source": [
    "# 4. Treinamento do Modelo de Filtragem Colaborativa"
   ]
  },
  {
   "cell_type": "markdown",
   "id": "6d15fe32",
   "metadata": {},
   "source": [
    "\n",
    "Usaremos um **KNN baseado em similaridade de itens**:\n",
    "1. A matriz é convertida para formato esparso `csr_matrix`.\n",
    "2. A similaridade é calculada via **cosseno**.\n",
    "3. Para cada ativo, guardamos os *K* vizinhos mais similares (default `K = 20`).\n",
    "\n",
    "> O modelo é simples, interpretável e dispensa treinamento pesado.\n"
   ]
  },
  {
   "cell_type": "code",
   "execution_count": 7,
   "id": "d9b0ac8d",
   "metadata": {},
   "outputs": [
    {
     "data": {
      "text/plain": [
       "[('AALM12 CDIE',\n",
       "  ['INEL12 CDIE',\n",
       "   'ALTF11 CDIE',\n",
       "   'BKBR19 CDIE',\n",
       "   'HAPV15 CDIE',\n",
       "   'SVEA22 CDIE',\n",
       "   'OPCT15 CDIE',\n",
       "   'MILS18 CDIE',\n",
       "   'ARML14 CDIE',\n",
       "   'DASAA6 CDIE',\n",
       "   'BVPL11 CDIE',\n",
       "   'TRES11 CDIE',\n",
       "   'HBSA22 CDIE',\n",
       "   'TEPA12 IPCA',\n",
       "   'VAMO24 CDIE',\n",
       "   'AEGPA9 CDIE',\n",
       "   'ELTN16 CDIE',\n",
       "   'CSANB0 CDIE',\n",
       "   'JSLGA5 CDIE',\n",
       "   'MATD12 CDIE',\n",
       "   'MVLV19 CDIE']),\n",
       " ('AALR13 CDIE',\n",
       "  ['SLZG12 IPCA',\n",
       "   'RAIN12 IPCA',\n",
       "   'CGCE12 IPCA',\n",
       "   'BGCE12 IPCA',\n",
       "   'SVEA22 CDIE',\n",
       "   'ASAB11 IPCA',\n",
       "   'CSMGB9 IPCA',\n",
       "   'DASAC5 CDIE',\n",
       "   'GRRB24 IPCA',\n",
       "   'ONCO19 CDIE',\n",
       "   'VLME11 CDIE',\n",
       "   'CNRD11 IPCA',\n",
       "   'CAEC21 IPCA',\n",
       "   'ELFA12 CDIE',\n",
       "   'VAMO34 IPCA',\n",
       "   'VERT15 CDIE',\n",
       "   'NTSD17 CDIE',\n",
       "   'TEPA13 IPCA',\n",
       "   'DESK15 CDIE',\n",
       "   'CASN13 CDIE']),\n",
       " ('AAZQ11',\n",
       "  ['OMGE22 IPCA',\n",
       "   'CPLD26 IPCA',\n",
       "   'CSNAC4 IPCA',\n",
       "   'RISP22 IPCA',\n",
       "   'CGOS13 IPCA',\n",
       "   'CDCA PRE',\n",
       "   'ELET16 IPCA',\n",
       "   'VERO14 CDIE',\n",
       "   'RIS422 IPCA',\n",
       "   'CRA PRE',\n",
       "   'VERO34 PRE',\n",
       "   'TAEED2 IPCA',\n",
       "   'CRI PRE',\n",
       "   'TAEEC4 IPCA',\n",
       "   'CRA CDIE',\n",
       "   'PCHSA4 CDIE',\n",
       "   'CRI IPCA',\n",
       "   'CRI CDIE',\n",
       "   'SBSPE9 IPCA',\n",
       "   'IRJS14 IPCA'])]"
      ]
     },
     "execution_count": 7,
     "metadata": {},
     "output_type": "execute_result"
    }
   ],
   "source": [
    "\n",
    "from sklearn.metrics.pairwise import cosine_similarity\n",
    "\n",
    "K = 20\n",
    "\n",
    "# sparse matrix\n",
    "item_user_mat = sp.csr_matrix(user_item.T.values)\n",
    "\n",
    "# similaridade item×item\n",
    "sim = cosine_similarity(item_user_mat)\n",
    "\n",
    "# Mantém apenas top‑K por coluna\n",
    "topk = np.argsort(-sim, axis=1)[:, 1:K+1]  # ignora self (pos 0)\n",
    "\n",
    "# Dicionário: item -> vizinhos\n",
    "item_idx_to_name = dict(enumerate(user_item.columns))\n",
    "item_neighbors = {\n",
    "    item_idx_to_name[i]: [item_idx_to_name[j] for j in topk[i]]\n",
    "    for i in range(sim.shape[0])\n",
    "}\n",
    "# exemplo\n",
    "list(item_neighbors.items())[:3]\n"
   ]
  },
  {
   "cell_type": "markdown",
   "id": "1994f82b",
   "metadata": {},
   "source": [
    "# 5. Geração de Ranking Personalizado"
   ]
  },
  {
   "cell_type": "markdown",
   "id": "fa162e49",
   "metadata": {},
   "source": [
    "\n",
    "Para cada **usuário fora de conformidade**:\n",
    "1. Identificamos os ativos já possuídos.\n",
    "2. Agregamos as similaridades dos vizinhos dos ativos possuídos (excluindo os já presentes).\n",
    "3. Ordenamos pelo score acumulado para obter o ranking.\n",
    "\n",
    "A função `recomendar_ativos` abaixo retorna o *top‑N* (default `N = 10`) para qualquer **`id_conta`**.\n"
   ]
  },
  {
   "cell_type": "code",
   "execution_count": 8,
   "id": "4cb6b7d1",
   "metadata": {},
   "outputs": [
    {
     "data": {
      "text/plain": [
       "[('MSGT23 IPCA', 31),\n",
       " ('GASC25 IPCA', 27),\n",
       " ('ELTE12 IPCA', 14),\n",
       " ('POTE12 IPCA', 13),\n",
       " ('ENEV15 IPCA', 11),\n",
       " ('RISP22 IPCA', 11),\n",
       " ('MRSAB1 IPCA', 10),\n",
       " ('GASC17 IPCA', 6),\n",
       " ('ELTN15 IPCA', 5),\n",
       " ('CPLD29 IPCA', 5)]"
      ]
     },
     "execution_count": 8,
     "metadata": {},
     "output_type": "execute_result"
    }
   ],
   "source": [
    "\n",
    "# users out‑of‑compliance\n",
    "usuarios_alvo = portfolio_pct[~portfolio_pct['em_conformidade']].index.tolist()\n",
    "\n",
    "def recomendar_ativos(id_conta, N=10):\n",
    "    if id_conta not in usuarios_alvo:\n",
    "        raise ValueError(\"Usuário não está fora de conformidade ou não existe.\")\n",
    "    possuidos = set(df[df['Conta'] == id_conta]['Nome_Ativo'])\n",
    "    scores = {}\n",
    "    for ativo in possuidos:\n",
    "        vizinhos = item_neighbors.get(ativo, [])\n",
    "        for v in vizinhos:\n",
    "            if v in possuidos:\n",
    "                continue\n",
    "            scores[v] = scores.get(v, 0) + 1  # soma votos\n",
    "    return sorted(scores.items(), key=lambda x: -x[1])[:N]\n",
    "\n",
    "# Exemplo de uso\n",
    "test_user = usuarios_alvo[0]\n",
    "recomendar_ativos(test_user, N=10)\n"
   ]
  },
  {
   "cell_type": "markdown",
   "id": "4452432f",
   "metadata": {},
   "source": [
    "# 6. Avaliação Rápida"
   ]
  },
  {
   "cell_type": "markdown",
   "id": "20afa603",
   "metadata": {},
   "source": [
    "\n",
    "Como não possuímos *ground‑truth* de compras futuras, realizamos uma avaliação **offline** simples:\n",
    "\n",
    "- **Cobertura (@K)** – proporção de usuários para os quais o modelo consegue indicar pelo menos 1 ativo novo.\n",
    "- **Diversidade** – nº médio de ativos distintos sugeridos em toda a base de teste.\n",
    "\n",
    "Isso dá um termômetro inicial de utilidade do ranking.\n"
   ]
  },
  {
   "cell_type": "code",
   "execution_count": 9,
   "id": "08e3bc7f",
   "metadata": {},
   "outputs": [
    {
     "name": "stdout",
     "output_type": "stream",
     "text": [
      "Cobertura: 94.18%\n",
      "Diversidade (#ativos recomendados): 729\n"
     ]
    }
   ],
   "source": [
    "\n",
    "def cobertura(k=10):\n",
    "    hit = 0\n",
    "    total = len(usuarios_alvo)\n",
    "    all_rec = set()\n",
    "    for u in usuarios_alvo:\n",
    "        recs = recomendar_ativos(u, N=k)\n",
    "        if recs:\n",
    "            hit += 1\n",
    "            all_rec.update([r[0] for r in recs])\n",
    "    return hit/total, len(all_rec)\n",
    "\n",
    "cov, div = cobertura()\n",
    "print(f\"Cobertura: {cov:.2%}\")\n",
    "print(f\"Diversidade (#ativos recomendados): {div}\")\n"
   ]
  },
  {
   "cell_type": "markdown",
   "id": "0bd92a2c",
   "metadata": {},
   "source": [
    "## 6.1 Protocolo de Avaliação Offline (Hold-Out)\n",
    "\n",
    "Para medir personalização sem dados futuros de compra, usamos um **leave-one-out** por usuário *em conformidade*:\n",
    "\n",
    "1. Para cada carteira, **remove-se** aleatoriamente **um** ativo (`item_holdout`).\n",
    "2. Reconstrói-se o modelo **sem** esse ativo.\n",
    "3. Gera-se Top-K recomendações e verifica-se se `item_holdout` aparece na lista.\n",
    "\n",
    "Métricas calculadas:\n",
    "\n",
    "| Métrica | Descrição |\n",
    "|---------|-----------|\n",
    "| **Hit Rate @K** | % de usuários cujo item oculto aparece no Top-K |\n",
    "| **Precision @K** | média de `hits/K` |\n",
    "| **Recall @K** | média de `hits/1` (só 1 item relevante) |\n",
    "| **MAP @K** | Mean Average Precision |\n",
    "| **NDCG @K** | Normalized DCG |\n"
   ]
  },
  {
   "cell_type": "code",
   "execution_count": 10,
   "id": "e3859590",
   "metadata": {},
   "outputs": [
    {
     "data": {
      "text/plain": [
       "{'Users': 2090,\n",
       " 'HitRate@K': 0.47129186602870815,\n",
       " 'Precision@K': 0.04712918660287081,\n",
       " 'Recall@K': 0.47129186602870815,\n",
       " 'MAP@K': 0.27442583732057385,\n",
       " 'NDCG@K': np.float64(0.32084093131698477)}"
      ]
     },
     "execution_count": 10,
     "metadata": {},
     "output_type": "execute_result"
    }
   ],
   "source": [
    "# --- 6.1 Avaliação Offline (FIX) ---\n",
    "def holdout_evaluation(user_item_full, K=10, seed=42):\n",
    "    \"\"\"\n",
    "    Leave-one-out sobre usuários em conformidade.\n",
    "    Retorna HitRate, Precision, Recall, MAP e NDCG @K.\n",
    "    \"\"\"\n",
    "    rng = np.random.default_rng(seed)\n",
    "    hits = prec_sum = dcg_sum = 0\n",
    "    users_eval = 0\n",
    "    \n",
    "    mat = user_item_full.values          # matriz numpy (users × items)\n",
    "    cols = user_item_full.columns        # nomes de ativos\n",
    "    \n",
    "    for u in range(mat.shape[0]):\n",
    "        row = mat[u]                     # array 1-D\n",
    "        itens_pos = np.where(row > 0)[0] # índices de itens possuídos\n",
    "        if len(itens_pos) < 2:           # precisa ter >1 para esconder 1\n",
    "            continue\n",
    "        \n",
    "        users_eval += 1\n",
    "        hold_idx  = rng.choice(itens_pos)\n",
    "        hold_item = cols[hold_idx]\n",
    "        \n",
    "        possuidos_idx = np.setdiff1d(itens_pos, [hold_idx])\n",
    "        possuidos = set(cols[possuidos_idx])\n",
    "        \n",
    "        # agrega votos de vizinhos\n",
    "        scores = {}\n",
    "        for a in possuidos:\n",
    "            for v in item_neighbors.get(a, []):\n",
    "                if v in possuidos:       # já possui\n",
    "                    continue\n",
    "                scores[v] = scores.get(v, 0) + 1\n",
    "        \n",
    "        recs = [x for x, _ in sorted(scores.items(), key=lambda x: -x[1])][:K]\n",
    "        \n",
    "        if hold_item in recs:\n",
    "            hits += 1\n",
    "            pos = recs.index(hold_item)\n",
    "            prec_sum += 1/(pos+1)            # AP com 1 relevante\n",
    "            dcg_sum += 1/np.log2(pos+2)      # DCG\n",
    "  \n",
    "    if users_eval == 0:                      # borda: ninguém elegível\n",
    "        return {}\n",
    "    \n",
    "    hr   = hits / users_eval\n",
    "    prec = hits / (users_eval*K)\n",
    "    rec  = hits / users_eval                # recall = hit/1\n",
    "    mapk = prec_sum / users_eval\n",
    "    ndcg = dcg_sum / users_eval\n",
    "    \n",
    "    return {'Users': users_eval,\n",
    "            'HitRate@K': hr,\n",
    "            'Precision@K': prec,\n",
    "            'Recall@K': rec,\n",
    "            'MAP@K': mapk,\n",
    "            'NDCG@K': ndcg}\n",
    "\n",
    "evaluation_results = holdout_evaluation(user_item, K=10)\n",
    "evaluation_results\n"
   ]
  },
  {
   "cell_type": "markdown",
   "id": "843a3e86",
   "metadata": {},
   "source": [
    "## 6.3 Diversidade e Novidade\n",
    "\n",
    "* **Intra-lista Diversidade** – 1 − (frequência da classe mais comum / K).  \n",
    "* **Novidade** – média de $(1/\\\\log_2(popularidade+2))$ dos ativos recomendados.  \n",
    "Visam evitar listas redundantes e fomentar descoberta.\n"
   ]
  },
  {
   "cell_type": "code",
   "execution_count": 11,
   "id": "fb805a5c",
   "metadata": {},
   "outputs": [
    {
     "data": {
      "text/plain": [
       "{'Users': 2959,\n",
       " 'Mean_Diversity': np.float64(0.08844204123014533),\n",
       " 'Mean_Novelty': np.float64(0.18273405926459044)}"
      ]
     },
     "execution_count": 11,
     "metadata": {},
     "output_type": "execute_result"
    }
   ],
   "source": [
    "# --- 6.3 Diversidade / Novidade ---\n",
    "def diversity_and_novelty(k=10):\n",
    "    pop = df_ok['Nome_Ativo'].value_counts()\n",
    "    divs, novs = [], []\n",
    "    for u in usuarios_alvo:\n",
    "        recs = recomendar_ativos(u, N=k)\n",
    "        if not recs: continue\n",
    "        classes = [map_tipo_para_classe[\n",
    "            df[df['Nome_Ativo']==r[0]]['Tipo_de_Ativo'].iloc[0]] for r in recs]\n",
    "        divs.append(1 - max(classes.count(c) for c in ['RF','RV','OUTROS'])/k)\n",
    "        novs.append(np.mean([1/np.log2(pop[r[0]]+2) for r in recs]))\n",
    "    return {'Users':len(divs),'Mean_Diversity':np.mean(divs),'Mean_Novelty':np.mean(novs)}\n",
    "\n",
    "div_nov_results = diversity_and_novelty(k=10)\n",
    "div_nov_results\n"
   ]
  },
  {
   "cell_type": "markdown",
   "id": "002acf10",
   "metadata": {},
   "source": []
  },
  {
   "cell_type": "markdown",
   "id": "47843800",
   "metadata": {},
   "source": [
    "# 8 Exportação do modelo\n",
    "- Exportaremos o modelo para um arquivo `.pkl`."
   ]
  },
  {
   "cell_type": "code",
   "execution_count": 12,
   "id": "295f4eda",
   "metadata": {},
   "outputs": [
    {
     "name": "stdout",
     "output_type": "stream",
     "text": [
      "Modelo salvo em: C:\\Users\\Caleb\\GitHub\\Modelo-de-Recomendacao_Sprint-2\\item_knn_model.pkl\n"
     ]
    }
   ],
   "source": [
    "## 8.1 Salvar modelo em arquivo .pkl\n",
    "import pickle\n",
    "from pathlib import Path\n",
    "\n",
    "# agrupa tudo que precisamos para reproduzir as recomendações\n",
    "model_artifact = {\n",
    "    \"K\": K,                                           # vizinhos por item\n",
    "    \"item_names\": user_item.columns.tolist(),         # ordem usada na matriz\n",
    "    \"similarity_matrix\": sim,                         # numpy.ndarray\n",
    "    \"neighbors_dict\": item_neighbors                  # já filtrado com top-K\n",
    "}\n",
    "\n",
    "output_path = Path(\"item_knn_model.pkl\")\n",
    "with open(output_path, \"wb\") as f:\n",
    "    pickle.dump(model_artifact, f, protocol=pickle.HIGHEST_PROTOCOL)\n",
    "\n",
    "print(f\"Modelo salvo em: {output_path.resolve()}\")\n"
   ]
  }
 ],
 "metadata": {
  "kernelspec": {
   "display_name": "Python 3",
   "language": "python",
   "name": "python3"
  },
  "language_info": {
   "codemirror_mode": {
    "name": "ipython",
    "version": 3
   },
   "file_extension": ".py",
   "mimetype": "text/x-python",
   "name": "python",
   "nbconvert_exporter": "python",
   "pygments_lexer": "ipython3",
   "version": "3.13.1"
  }
 },
 "nbformat": 4,
 "nbformat_minor": 5
}
